{
 "cells": [
  {
   "cell_type": "code",
   "execution_count": 1,
   "id": "cc879465",
   "metadata": {},
   "outputs": [],
   "source": [
    "# import libraries \n",
    "\n",
    "from bs4 import BeautifulSoup\n",
    "import requests\n",
    "import time\n",
    "import datetime\n",
    "\n",
    "import smtplib"
   ]
  },
  {
   "cell_type": "code",
   "execution_count": 2,
   "id": "c8772c28",
   "metadata": {
    "scrolled": true
   },
   "outputs": [
    {
     "name": "stdout",
     "output_type": "stream",
     "text": [
      "\n",
      "                                            OXRYZER - T Shirt Maroon Cotton Regular Fit For Men ( Pack of 1 )\n",
      "                                           \n",
      "\n",
      "                                                 307\n",
      "                                                \n",
      "\n",
      "                                             (4.0)\n",
      "                                            \n"
     ]
    }
   ],
   "source": [
    "#Connect to the URL\n",
    "\n",
    "URL = 'https://www.snapdeal.com/product/oxryzer-maroon-100-percent-cotton/628574323599'\n",
    "\n",
    "headers= {\"User-Agent\": \"Mozilla/5.0 (Windows NT 10.0; Win64; x64) AppleWebKit/537.36 (KHTML, like Gecko) Chrome/121.0.0.0 Safari/537.36\", \"Accept-Encoding\": \"gzip, deflate, br\",\"Accept\": \"text/html,application/xhtml+xml,application/xml;q=0.9*/*;q=0.8\",\"DNT\":\"1\",\"Connection\":\"close\",\"Ugrade-Insecure-Requests\":\"1\" }\n",
    "\n",
    "page = requests.get(URL, headers=headers)\n",
    "\n",
    "soup1 = BeautifulSoup(page.content, \"html.parser\")\n",
    "\n",
    "soup2 = BeautifulSoup(soup1.prettify(), \"html.parser\")\n",
    "\n",
    "title = soup2.find('h1', {'itemprop': 'name'}).get_text()\n",
    "\n",
    "price= soup2.find(class_= 'payBlkBig').get_text()\n",
    "\n",
    "rating = soup2.find(class_='avrg-rating').get_text()\n",
    "\n",
    "print(title)\n",
    "print(price)\n",
    "print(rating)"
   ]
  },
  {
   "cell_type": "code",
   "execution_count": 3,
   "id": "1d1bb86b",
   "metadata": {},
   "outputs": [
    {
     "name": "stdout",
     "output_type": "stream",
     "text": [
      "OXRYZER - T Shirt Maroon Cotton Regular Fit For Men ( Pack of 1 )\n",
      "307\n",
      "4.0\n"
     ]
    }
   ],
   "source": [
    "# Making the values a little cleaner\n",
    "\n",
    "title = title.strip()\n",
    "price= price.strip()\n",
    "rating = rating.strip().replace('(', '').replace(')', '')\n",
    "\n",
    "title = ' '.join(title.split())\n",
    "\n",
    "\n",
    "print(title)\n",
    "print(price)\n",
    "print(rating)"
   ]
  },
  {
   "cell_type": "code",
   "execution_count": 4,
   "id": "13e04d8c",
   "metadata": {},
   "outputs": [
    {
     "name": "stdout",
     "output_type": "stream",
     "text": [
      "2024-02-12\n"
     ]
    }
   ],
   "source": [
    "# When was this data extracted\n",
    "\n",
    "import datetime\n",
    "\n",
    "today= datetime.date.today()\n",
    "\n",
    "print(today)"
   ]
  },
  {
   "cell_type": "code",
   "execution_count": 5,
   "id": "be41c818",
   "metadata": {},
   "outputs": [],
   "source": [
    "# Import the data to a CSV file\n",
    "\n",
    "import csv\n",
    "\n",
    "header = ['Title', 'Price','Rating', 'Date']\n",
    "data = [title, price, rating, today]\n",
    "\n",
    "#create a csv file\n",
    "\n",
    "with open('SnapdealScraperData.csv','w', newline='', encoding='UTF8') as f:\n",
    "    writer = csv.writer(f)\n",
    "    writer.writerow(header)\n",
    "    writer.writerow(data)"
   ]
  },
  {
   "cell_type": "code",
   "execution_count": 6,
   "id": "391d56ec",
   "metadata": {},
   "outputs": [
    {
     "name": "stdout",
     "output_type": "stream",
     "text": [
      "                                               Title  Price  Rating  \\\n",
      "0  OXRYZER - T Shirt Maroon Cotton Regular Fit Fo...    307     4.0   \n",
      "\n",
      "         Date  \n",
      "0  2024-02-12  \n"
     ]
    }
   ],
   "source": [
    "import pandas as pd\n",
    "\n",
    "df= pd.read_csv(r'C:\\Users\\kulka\\SnapdealScraperData.csv')\n",
    "\n",
    "print(df)"
   ]
  },
  {
   "cell_type": "code",
   "execution_count": null,
   "id": "5352e501",
   "metadata": {},
   "outputs": [],
   "source": [
    "# Now we are appending data to the CSV so that we can add new rows\n",
    "\n",
    "with open('SnapdealScraperData.csv','a+', newline='', encoding='UTF8') as f:\n",
    "    writer = csv.writer(f)\n",
    "    writer.writerow(data)"
   ]
  },
  {
   "cell_type": "code",
   "execution_count": null,
   "id": "95345403",
   "metadata": {},
   "outputs": [],
   "source": [
    "\n",
    "def check_price():\n",
    "    \n",
    "    URL = 'https://www.snapdeal.com/product/oxryzer-maroon-100-percent-cotton/628574323599'\n",
    "\n",
    "    headers= {\"User-Agent\": \"Mozilla/5.0 (Windows NT 10.0; Win64; x64) AppleWebKit/537.36 (KHTML, like Gecko) Chrome/121.0.0.0 Safari/537.36\", \"Accept-Encoding\": \"gzip, deflate, br\",\"Accept\": \"text/html,application/xhtml+xml,application/xml;q=0.9*/*;q=0.8\",\"DNT\":\"1\",\"Connection\":\"close\",\"Ugrade-Insecure-Requests\":\"1\" }\n",
    "\n",
    "    page = requests.get(URL, headers=headers)\n",
    "\n",
    "    soup1 = BeautifulSoup(page.content, \"html.parser\")\n",
    "\n",
    "    soup2 = BeautifulSoup(soup1.prettify(), \"html.parser\")\n",
    "\n",
    "    title = soup2.find('h1', {'itemprop': 'name'}).get_text()\n",
    "\n",
    "    price= soup2.find(class_= 'payBlkBig').get_text()\n",
    "\n",
    "    rating = soup2.find(class_='avrg-rating').get_text()\n",
    "    \n",
    "    title = title.strip()\n",
    "    price= price.strip()\n",
    "    rating = rating.strip().replace('(', '').replace(')', '')\n",
    "\n",
    "    title = ' '.join(title.split())\n",
    "    \n",
    "    import csv\n",
    "\n",
    "    header = ['Title', 'Price','Rating', 'Date']\n",
    "    data = [title, price, rating, today]\n",
    "    \n",
    "    with open('SnapdealScraperData.csv','a+', newline='', encoding='UTF8') as f:\n",
    "        writer = csv.writer(f)\n",
    "        writer.writerow(data)\n",
    "        \n",
    "    if (price<300):\n",
    "        send_email()"
   ]
  },
  {
   "cell_type": "code",
   "execution_count": null,
   "id": "df5804a2",
   "metadata": {},
   "outputs": [],
   "source": [
    "# Adding a timer to the project so that we do not have to run this all day\n",
    "\n",
    "while (True):\n",
    "    check_price()\n",
    "    time.sleep(86400)"
   ]
  },
  {
   "cell_type": "code",
   "execution_count": null,
   "id": "34a978cd",
   "metadata": {},
   "outputs": [],
   "source": [
    "import pandas as pd\n",
    "\n",
    "df= pd.read_csv(r'C:\\Users\\kulka\\SnapdealScraperData.csv')\n",
    "\n",
    "print(df)"
   ]
  },
  {
   "cell_type": "code",
   "execution_count": null,
   "id": "3b7a0cee",
   "metadata": {},
   "outputs": [],
   "source": [
    "# Send email alerts to your device if there is any price drop\n",
    "\n",
    "def send_email():\n",
    "    server= smtplib.SMTP_SSL('smtp.gmail.com',465)\n",
    "    server.ehlo()\n",
    "    #server.starttls()\n",
    "    server.ehlo()\n",
    "    server.login('rkulkarni.mt@gmail.com','xxxxxxxxxxxxxx')\n",
    "    \n",
    "    subject = \"The Shirt you want is below 300! Now is your chance to buy!\"\n",
    "    body = \"Rohit, This is the moment we have been waiting for. Now is your chance to pick up the shirt of your dreams. Don't mess it up! Link here: https://www.snapdeal.com/product/oxryzer-maroon-100-percent-cotton/628574323599\"\n",
    "   \n",
    "    msg = f\"Subject: {subject}\\n\\n{body}\"\n",
    "    \n",
    "    server.sendmail(\n",
    "        'rkulkarni.mt@gmail.com',\n",
    "        msg"
   ]
  }
 ],
 "metadata": {
  "kernelspec": {
   "display_name": "Python 3 (ipykernel)",
   "language": "python",
   "name": "python3"
  },
  "language_info": {
   "codemirror_mode": {
    "name": "ipython",
    "version": 3
   },
   "file_extension": ".py",
   "mimetype": "text/x-python",
   "name": "python",
   "nbconvert_exporter": "python",
   "pygments_lexer": "ipython3",
   "version": "3.11.3"
  }
 },
 "nbformat": 4,
 "nbformat_minor": 5
}
